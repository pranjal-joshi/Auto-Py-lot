{
 "cells": [
  {
   "cell_type": "code",
   "execution_count": 47,
   "metadata": {},
   "outputs": [],
   "source": [
    "import d3dshot\n",
    "import tensorflow as tf\n",
    "import cv2\n",
    "from PIL import Image, ImageGrab, ImageEnhance\n",
    "import numpy as np\n",
    "import win32gui as w\n",
    "import win32api, win32con\n",
    "from ctypes import windll\n",
    "from time import sleep\n",
    "import winsound"
   ]
  },
  {
   "cell_type": "code",
   "execution_count": 3,
   "metadata": {},
   "outputs": [],
   "source": [
    "keyList = [\"\\b\"]\n",
    "for char in \"ABCDEFGHIJKLMNOPQRSTUVWXYZ 123456789,.\":\n",
    "\tkeyList.append(char)\n",
    "\n",
    "def checkKeys():\n",
    "\tkeys = []\n",
    "\tfor key in keyList:\n",
    "\t\tif win32api.GetAsyncKeyState(ord(key)):\n",
    "\t\t\tkeys.append(key)\n",
    "\treturn keys"
   ]
  },
  {
   "cell_type": "code",
   "execution_count": 44,
   "metadata": {},
   "outputs": [],
   "source": [
    "# Grab game screenshot\n",
    "def getScreenshot():\n",
    "    while True:\n",
    "        try:\n",
    "            win32api.keybd_event(win32con.VK_SNAPSHOT,1)\n",
    "            i = ImageGrab.grabclipboard()\n",
    "            i = np.array(i,dtype='uint8')\n",
    "            i = cv2.cvtColor(i, cv2.COLOR_BGR2RGB)\n",
    "            return i\n",
    "            #cv2.imshow(\"ss\",i)\n",
    "            #cv2.waitKey(10)\n",
    "        except TypeError:\n",
    "            return np.zeros([1920,1080],dtype='uint8')"
   ]
  },
  {
   "cell_type": "code",
   "execution_count": 26,
   "metadata": {},
   "outputs": [
    {
     "ename": "KeyboardInterrupt",
     "evalue": "",
     "output_type": "error",
     "traceback": [
      "\u001b[1;31m---------------------------------------------------------------------------\u001b[0m",
      "\u001b[1;31mKeyboardInterrupt\u001b[0m                         Traceback (most recent call last)",
      "\u001b[1;32m<ipython-input-26-9d3331890237>\u001b[0m in \u001b[0;36m<module>\u001b[1;34m\u001b[0m\n\u001b[0;32m      3\u001b[0m     \u001b[0muser32\u001b[0m \u001b[1;33m=\u001b[0m \u001b[0mwindll\u001b[0m\u001b[1;33m.\u001b[0m\u001b[0muser32\u001b[0m\u001b[1;33m\u001b[0m\u001b[1;33m\u001b[0m\u001b[0m\n\u001b[0;32m      4\u001b[0m     \u001b[0muser32\u001b[0m\u001b[1;33m.\u001b[0m\u001b[0mSetProcessDPIAware\u001b[0m\u001b[1;33m(\u001b[0m\u001b[1;33m)\u001b[0m\u001b[1;33m\u001b[0m\u001b[1;33m\u001b[0m\u001b[0m\n\u001b[1;32m----> 5\u001b[1;33m     \u001b[0mgetScreenshot\u001b[0m\u001b[1;33m(\u001b[0m\u001b[1;33m)\u001b[0m\u001b[1;33m\u001b[0m\u001b[1;33m\u001b[0m\u001b[0m\n\u001b[0m",
      "\u001b[1;32m<ipython-input-24-6805ff6be47e>\u001b[0m in \u001b[0;36mgetScreenshot\u001b[1;34m()\u001b[0m\n\u001b[0;32m      6\u001b[0m             \u001b[0mi\u001b[0m \u001b[1;33m=\u001b[0m \u001b[0mImageGrab\u001b[0m\u001b[1;33m.\u001b[0m\u001b[0mgrabclipboard\u001b[0m\u001b[1;33m(\u001b[0m\u001b[1;33m)\u001b[0m\u001b[1;33m\u001b[0m\u001b[1;33m\u001b[0m\u001b[0m\n\u001b[0;32m      7\u001b[0m             \u001b[0mi\u001b[0m \u001b[1;33m=\u001b[0m \u001b[0mnp\u001b[0m\u001b[1;33m.\u001b[0m\u001b[0marray\u001b[0m\u001b[1;33m(\u001b[0m\u001b[0mi\u001b[0m\u001b[1;33m,\u001b[0m\u001b[0mdtype\u001b[0m\u001b[1;33m=\u001b[0m\u001b[1;34m'uint8'\u001b[0m\u001b[1;33m)\u001b[0m\u001b[1;33m\u001b[0m\u001b[1;33m\u001b[0m\u001b[0m\n\u001b[1;32m----> 8\u001b[1;33m             \u001b[0mi\u001b[0m \u001b[1;33m=\u001b[0m \u001b[0mcv2\u001b[0m\u001b[1;33m.\u001b[0m\u001b[0mresize\u001b[0m\u001b[1;33m(\u001b[0m\u001b[0mi\u001b[0m\u001b[1;33m,\u001b[0m \u001b[1;33m(\u001b[0m\u001b[1;36m480\u001b[0m\u001b[1;33m,\u001b[0m\u001b[1;36m360\u001b[0m\u001b[1;33m)\u001b[0m\u001b[1;33m)\u001b[0m\u001b[1;33m\u001b[0m\u001b[1;33m\u001b[0m\u001b[0m\n\u001b[0m\u001b[0;32m      9\u001b[0m             \u001b[0mi\u001b[0m \u001b[1;33m=\u001b[0m \u001b[0mcv2\u001b[0m\u001b[1;33m.\u001b[0m\u001b[0mcvtColor\u001b[0m\u001b[1;33m(\u001b[0m\u001b[0mi\u001b[0m\u001b[1;33m,\u001b[0m \u001b[0mcv2\u001b[0m\u001b[1;33m.\u001b[0m\u001b[0mCOLOR_BGR2RGB\u001b[0m\u001b[1;33m)\u001b[0m\u001b[1;33m\u001b[0m\u001b[1;33m\u001b[0m\u001b[0m\n\u001b[0;32m     10\u001b[0m             \u001b[0mcv2\u001b[0m\u001b[1;33m.\u001b[0m\u001b[0mimshow\u001b[0m\u001b[1;33m(\u001b[0m\u001b[1;34m\"ss\"\u001b[0m\u001b[1;33m,\u001b[0m\u001b[0mi\u001b[0m\u001b[1;33m)\u001b[0m\u001b[1;33m\u001b[0m\u001b[1;33m\u001b[0m\u001b[0m\n",
      "\u001b[1;31mKeyboardInterrupt\u001b[0m: "
     ]
    }
   ],
   "source": [
    "if __name__ == \"__main__\":\n",
    "    sleep(2)\n",
    "    user32 = windll.user32\n",
    "    user32.SetProcessDPIAware()\n",
    "    getScreenshot()"
   ]
  },
  {
   "cell_type": "code",
   "execution_count": 67,
   "metadata": {},
   "outputs": [],
   "source": [
    "def makeBeep(pattern):\n",
    "    if pattern == 'on':\n",
    "        winsound.Beep(2500,500)\n",
    "        winsound.Beep(3500,500)\n",
    "        winsound.Beep(4500,500)\n",
    "    elif pattern == 'off':\n",
    "        winsound.Beep(4500,500)\n",
    "        winsound.Beep(3500,500)\n",
    "        winsound.Beep(2500,500)\n",
    "    \n",
    "def getMapData():\n",
    "    cnt = 0\n",
    "    controlFlag = False\n",
    "    while True:\n",
    "        k = checkKeys()\n",
    "        if 'k' in k:\n",
    "            winsound.Beep(1500,700)\n",
    "            break\n",
    "        if 'Q' in k and 'E' in k:\n",
    "            controlFlag = not controlFlag\n",
    "            if controlFlag:\n",
    "                makeBeep('on')\n",
    "            else:\n",
    "                makeBeep('off')\n",
    "        if len(k) > 0 and controlFlag:\n",
    "            i = getScreenshot()\n",
    "            i = i[723:1026,98:401]\n",
    "            i = cv2.resize(i, (224,224))\n",
    "            i = Image.fromarray(i)\n",
    "            ce, be, cole = ImageEnhance.Contrast(i), ImageEnhance.Brightness(i), ImageEnhance.Color(i)\n",
    "            i = be.enhance(0.2)\n",
    "            i = ce.enhance(0.5)\n",
    "            i = cole.enhance(3.0)\n",
    "            i = np.asarray(i)\n",
    "            if 'Q' in k:\n",
    "                cv2.imwrite('dataset/Q/Q_'+str(cnt)+'.jpg',i)\n",
    "            if 'E' in k:\n",
    "                cv2.imwrite('dataset/E/E_'+str(cnt)+'.jpg',i)\n",
    "            if 'A' in k:\n",
    "                cv2.imwrite('dataset/A/A_'+str(cnt)+'.jpg',i)\n",
    "            if 'D' in k:\n",
    "                cv2.imwrite('dataset/D/D'+str(cnt)+'.jpg',i)\n",
    "            cnt +=1\n",
    "            sleep(0.01)\n",
    "        "
   ]
  },
  {
   "cell_type": "code",
   "execution_count": null,
   "metadata": {},
   "outputs": [],
   "source": [
    "getMapData()"
   ]
  },
  {
   "cell_type": "code",
   "execution_count": null,
   "metadata": {},
   "outputs": [],
   "source": []
  }
 ],
 "metadata": {
  "kernelspec": {
   "display_name": "conda (tf)",
   "language": "python",
   "name": "tf"
  },
  "language_info": {
   "codemirror_mode": {
    "name": "ipython",
    "version": 3
   },
   "file_extension": ".py",
   "mimetype": "text/x-python",
   "name": "python",
   "nbconvert_exporter": "python",
   "pygments_lexer": "ipython3",
   "version": "3.7.4"
  }
 },
 "nbformat": 4,
 "nbformat_minor": 2
}
