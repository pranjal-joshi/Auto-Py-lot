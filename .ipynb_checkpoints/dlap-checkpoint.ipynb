{
 "cells": [
  {
   "cell_type": "code",
   "execution_count": 149,
   "metadata": {},
   "outputs": [],
   "source": [
    "# Import required libraries\n",
    "import d3dshot\n",
    "import tensorflow as tf\n",
    "import cv2\n",
    "from PIL import Image, ImageGrab, ImageEnhance\n",
    "import numpy as np\n",
    "import win32gui as w\n",
    "import win32api, win32con\n",
    "from ctypes import windll\n",
    "from time import sleep\n",
    "import winsound\n",
    "import math\n",
    "import matplotlib.pyplot as plt\n",
    "import imutils\n",
    "import pandas as pd\n",
    "import joblib\n",
    "import pytesseract\n",
    "import re"
   ]
  },
  {
   "cell_type": "code",
   "execution_count": 150,
   "metadata": {},
   "outputs": [
    {
     "data": {
      "text/plain": [
       "1"
      ]
     },
     "execution_count": 150,
     "metadata": {},
     "output_type": "execute_result"
    }
   ],
   "source": [
    "# Declare global variables\n",
    "\n",
    "# Fixed image co-ordinates for OpenCV operations. (Calculated for my 1080p display - Your settings may vary)\n",
    "I_WIDTH, I_HEIGHT = 224, 224\n",
    "ORG_Y, ORG_X = int(I_HEIGHT*(2/3)), int(I_WIDTH/2)\n",
    "OFFSET_ANGLE = 90\n",
    "SPEEDBOX_Y, SPEEDBOX_YH, SPEEDBOX_X, SPEEDBOX_XH = 527, 553, 615, 685\n",
    "ALTIBOX_Y, ALTIBOX_YH, ALTIBOX_X, ALTIBOX_XH = SPEEDBOX_Y, SPEEDBOX_YH, 1230, 1320\n",
    "\n",
    "TRAIN_DF_COL_NAMES = ['imgPath','angle','distance','speed','altitude','key']\n",
    "CSV_DATASET_PATH = 'dataset//train.csv'\n",
    "keyList = ['\\b', 'A', 'B', 'C', 'D', 'E', 'F', 'G', 'H', 'I', 'J', 'K', 'L', 'M', 'N', 'O', 'P', 'Q', 'R', 'S', 'T', 'U', 'V', 'W', 'X', 'Y', 'Z', ' ', '1', '2', '3', '4', '5', '6', '7', '8', '9', ',', '.']\n",
    "\n",
    "redMin = np.array([0,0,0])\n",
    "redMax = np.array([30,255,255])\n",
    "greenMin = np.array([40,20,20])\n",
    "greenMax = np.array([70,255,255])\n",
    "sharpeningKernel = np.array([[-1,-1,-1], [-1,9,-1], [-1,-1,-1]])\n",
    "\n",
    "user32 = windll.user32\n",
    "user32.SetProcessDPIAware()"
   ]
  },
  {
   "cell_type": "code",
   "execution_count": 151,
   "metadata": {},
   "outputs": [],
   "source": [
    "# Return keypresses asynchronously\n",
    "def checkKeys():\n",
    "    keys = []\n",
    "    for key in keyList:\n",
    "        if win32api.GetAsyncKeyState(ord(key)):\n",
    "            keys.append(key)\n",
    "    return keys"
   ]
  },
  {
   "cell_type": "code",
   "execution_count": 152,
   "metadata": {},
   "outputs": [],
   "source": [
    "# Grab game screenshot\n",
    "def getScreenshot(convertToNumpy=True):\n",
    "    while True:\n",
    "        try:\n",
    "            win32api.keybd_event(win32con.VK_SNAPSHOT,1)\n",
    "            i = ImageGrab.grabclipboard()\n",
    "            if convertToNumpy:\n",
    "                i = np.array(i,dtype='uint8')\n",
    "                i = cv2.cvtColor(i, cv2.COLOR_BGR2RGB)\n",
    "            return i\n",
    "        except TypeError:\n",
    "            return np.zeros([1920,1080],dtype='uint8')"
   ]
  },
  {
   "cell_type": "code",
   "execution_count": 153,
   "metadata": {},
   "outputs": [],
   "source": [
    "# Main Call\n",
    "if __name__ == \"__main__\":\n",
    "    pass"
   ]
  },
  {
   "cell_type": "code",
   "execution_count": 154,
   "metadata": {},
   "outputs": [],
   "source": [
    "# Return angle in degrees between plane and target\n",
    "def getTargetAngleAndDistance(cx, cy):\n",
    "    angles = []\n",
    "    distances = []\n",
    "    for i in range(0,len(cx)):\n",
    "        angle = math.atan2(ORG_Y-cy[i], ORG_X-cx[i])\n",
    "        angle = math.degrees(angle) - OFFSET_ANGLE\n",
    "        angles.append(round(angle,2))\n",
    "        distances.append(round(math.sqrt((ORG_Y-cy[i])**2 + (ORG_X-cx[i])**2),2))\n",
    "    return angles, distances"
   ]
  },
  {
   "cell_type": "code",
   "execution_count": 155,
   "metadata": {},
   "outputs": [],
   "source": [
    "# Converts RGB image to binary image for contour detection\n",
    "def rgbToBinary(img):\n",
    "    gray = cv2.cvtColor(img, cv2.COLOR_RGB2GRAY)\n",
    "    blurred = cv2.GaussianBlur(gray, (3, 3), 0)\n",
    "    thresh = cv2.threshold(blurred, 60, 255, cv2.THRESH_BINARY)[1]\n",
    "    thresh = cv2.dilate(thresh, np.ones((2,2), np.uint8), iterations=1)\n",
    "    return thresh"
   ]
  },
  {
   "cell_type": "code",
   "execution_count": 156,
   "metadata": {},
   "outputs": [],
   "source": [
    "# Return contours from binary image\n",
    "def getContours(bImg):\n",
    "    cnts = cv2.findContours(bImg.copy(), cv2.RETR_EXTERNAL, cv2.CHAIN_APPROX_SIMPLE)\n",
    "    cnts = imutils.grab_contours(cnts)\n",
    "    return cnts"
   ]
  },
  {
   "cell_type": "code",
   "execution_count": 157,
   "metadata": {},
   "outputs": [],
   "source": [
    "# Returns Center pixel of each contour for arctan2 calculations\n",
    "def getContourCenter(cnts):\n",
    "    cX = []\n",
    "    cY = []\n",
    "    for c in cnts:\n",
    "        M = cv2.moments(c)\n",
    "        cX.append(int(M[\"m10\"] / M[\"m00\"]))\n",
    "        cY.append(int(M[\"m01\"] / M[\"m00\"]))\n",
    "    return cX, cY"
   ]
  },
  {
   "cell_type": "code",
   "execution_count": 158,
   "metadata": {},
   "outputs": [],
   "source": [
    "# Convert RGB image to HSV & return required colour by masking everything else.\n",
    "def getRedColor(rgbImg, BGRinput=False):\n",
    "    hsvImg = None\n",
    "    if BGRinput:\n",
    "        hsvImg = cv2.cvtColor(rgbImg, cv2.COLOR_BGR2HSV)\n",
    "    else:\n",
    "        hsvImg = cv2.cvtColor(rgbImg, cv2.COLOR_RGB2HSV)\n",
    "    mask = cv2.inRange(hsvImg, redMin, redMax)\n",
    "    masked = cv2.bitwise_and(rgbImg, rgbImg, mask=mask)\n",
    "    return masked\n",
    "\n",
    "def getGreenColor(rgbImg, BGRinput=False):\n",
    "    hsvImg = None\n",
    "    if BGRinput:\n",
    "        hsvImg = cv2.cvtColor(rgbImg, cv2.COLOR_BGR2HSV)\n",
    "    else:\n",
    "        hsvImg = cv2.cvtColor(rgbImg, cv2.COLOR_RGB2HSV)\n",
    "    mask = cv2.inRange(hsvImg, greenMin, greenMax)\n",
    "    masked = cv2.bitwise_and(rgbImg, rgbImg, mask=mask)\n",
    "    return masked"
   ]
  },
  {
   "cell_type": "code",
   "execution_count": 159,
   "metadata": {},
   "outputs": [],
   "source": [
    "# Make beeps for status alerts\n",
    "def makeBeep(pattern):\n",
    "    if pattern == 'on':\n",
    "        winsound.Beep(2500,500)\n",
    "        winsound.Beep(3500,500)\n",
    "        winsound.Beep(4500,500)\n",
    "    elif pattern == 'off':\n",
    "        winsound.Beep(4500,500)\n",
    "        winsound.Beep(3500,500)\n",
    "        winsound.Beep(2500,500)  "
   ]
  },
  {
   "cell_type": "code",
   "execution_count": 160,
   "metadata": {},
   "outputs": [],
   "source": [
    "# Returns an empty pandas dataframe for dataset storage\n",
    "def createDataFrame():\n",
    "    return pd.DataFrame(columns=TRAIN_DF_COL_NAMES)"
   ]
  },
  {
   "cell_type": "code",
   "execution_count": 169,
   "metadata": {},
   "outputs": [],
   "source": [
    "# Returns the clean the OCR String\n",
    "def processOCR(s):\n",
    "    s = s.replace(\"%\",\"0\").replace(\"I\",\"1\").replace(\"a\",\"2\").replace(\"S\",\"5\").replace(\"s\",\"5\")\n",
    "    s = re.sub('[^0-9]+', '', s)\n",
    "    return s"
   ]
  },
  {
   "cell_type": "code",
   "execution_count": 170,
   "metadata": {},
   "outputs": [],
   "source": [
    "# Returns speed value from HUD using OCR\n",
    "def getSpeed(i):\n",
    "    global speedQue\n",
    "    try:\n",
    "        i = i[SPEEDBOX_Y:SPEEDBOX_YH, SPEEDBOX_X:SPEEDBOX_XH]\n",
    "        i = cv2.cvtColor(i, cv2.COLOR_RGB2GRAY)\n",
    "        i = cv2.GaussianBlur(i,(3,3),cv2.BORDER_DEFAULT)\n",
    "        i = cv2.filter2D(i,-1,sharpeningKernel)\n",
    "        speed = pytesseract.image_to_string(i,lang='eng')\n",
    "        speed = processOCR(speed)\n",
    "        return speed\n",
    "    except:\n",
    "        return \"0\"\n",
    "\n",
    "# Returns altitude value from HUD using OCR\n",
    "def getAltitude(i):\n",
    "    global altiQue\n",
    "    try:\n",
    "        i = i[ALTIBOX_Y:ALTIBOX_YH, ALTIBOX_X:ALTIBOX_XH]\n",
    "        i = cv2.cvtColor(i, cv2.COLOR_RGB2GRAY)\n",
    "        i = cv2.GaussianBlur(i,(3,3),cv2.BORDER_DEFAULT)\n",
    "        i = cv2.filter2D(i,-1,sharpeningKernel)\n",
    "        alt = pytesseract.image_to_string(i,lang='eng')\n",
    "        alt = processOCR(alt)\n",
    "        return alt\n",
    "    except:\n",
    "        return \"0\""
   ]
  },
  {
   "cell_type": "code",
   "execution_count": 179,
   "metadata": {},
   "outputs": [],
   "source": [
    "# Get map image from game for dataset generation when the user takes control actions\n",
    "def getMapData():\n",
    "    cnt = 0\n",
    "    controlFlag = False\n",
    "    df = createDataFrame()\n",
    "    while True:\n",
    "        try:\n",
    "            k = checkKeys()\n",
    "            if 'k' in k:\n",
    "                winsound.Beep(1500,700)\n",
    "                break\n",
    "            if 'Q' in k and 'E' in k:\n",
    "                controlFlag = not controlFlag\n",
    "                if controlFlag:\n",
    "                    makeBeep('on')\n",
    "                else:\n",
    "                    makeBeep('off')\n",
    "                    df.to_csv(CSV_DATASET_PATH)\n",
    "                    break\n",
    "            if len(k) > 0 and controlFlag:\n",
    "                SAVE_PATH = None\n",
    "                PROCESS_FLAG = False\n",
    "                kTemp = \"\".join(k.copy()).replace(\",\",\"\")\n",
    "                if 'Q' in k:\n",
    "                    SAVE_PATH = 'dataset/Q/Q_'+str(cnt)+'.jpg'\n",
    "                    PROCESS_FLAG = True\n",
    "                if 'E' in k:\n",
    "                    SAVE_PATH = 'dataset/E/E_'+str(cnt)+'.jpg'\n",
    "                    PROCESS_FLAG = True\n",
    "                if 'A' in k:\n",
    "                    SAVE_PATH = 'dataset/A/A_'+str(cnt)+'.jpg'\n",
    "                    PROCESS_FLAG = True\n",
    "                if 'D' in k:\n",
    "                    SAVE_PATH = 'dataset/D/D'+str(cnt)+'.jpg'\n",
    "                    PROCESS_FLAG = True\n",
    "                if 'W' in k:\n",
    "                    SAVE_PATH = 'dataset/W/W'+str(cnt)+'.jpg'\n",
    "                    PROCESS_FLAG = True\n",
    "                if 'S' in k:\n",
    "                    SAVE_PATH = 'dataset/S/S'+str(cnt)+'.jpg'\n",
    "                    PROCESS_FLAG = True\n",
    "                if PROCESS_FLAG:\n",
    "                    screenshot = getScreenshot(convertToNumpy=True)\n",
    "                    i = screenshot[723:1026,98:401]\n",
    "                    i = cv2.resize(i, (I_WIDTH, I_HEIGHT))\n",
    "                    i = Image.fromarray(i)\n",
    "                    ce, be, cole = ImageEnhance.Contrast(i), ImageEnhance.Brightness(i), ImageEnhance.Color(i)\n",
    "                    i = be.enhance(0.2)\n",
    "                    i = ce.enhance(0.5)\n",
    "                    i = cole.enhance(3.0)\n",
    "                    i = np.asarray(i)\n",
    "                    i = getRedColor(i,BGRinput=True)\n",
    "                    cv2.imwrite(SAVE_PATH,i)\n",
    "                    i = rgbToBinary(i)\n",
    "                    cnts = getContours(i)\n",
    "                    cx, cy = getContourCenter(cnts)\n",
    "                    angles, dist = getTargetAngleAndDistance(cx, cy)\n",
    "                    speed = getSpeed(screenshot)\n",
    "                    altitude = getAltitude(screenshot)\n",
    "                    for i in range(0,len(angles)):\n",
    "                        df = pd.concat([pd.DataFrame([[SAVE_PATH, angles[i], dist[i], speed, altitude, kTemp]],columns=TRAIN_DF_COL_NAMES),df])\n",
    "                    cnt +=1\n",
    "                sleep(0.01)\n",
    "        except ZeroDivisionError:\n",
    "            pass\n",
    "        except KeyboardInterrupt:\n",
    "            df.to_csv(CSV_DATASET_PATH)\n",
    "            print(\"KeyboardInterrupt Exception Ocuured\")\n",
    "            print(df)\n",
    "            break\n",
    "        except Exception as e:\n",
    "            #df.to_csv(CSV_DATASET_PATH)\n",
    "            print(\"Exception Ocuured\")\n",
    "            print(df)\n",
    "            print(e)\n"
   ]
  },
  {
   "cell_type": "code",
   "execution_count": 178,
   "metadata": {},
   "outputs": [
    {
     "name": "stdout",
     "output_type": "stream",
     "text": [
      "KeyboardInterrupt Exception Ocuured\n",
      "               imgPath   angle  distance speed altitude  key\n",
      "0  dataset/A/A_290.jpg    5.71     10.05    51             A\n",
      "0  dataset/Q/Q_287.jpg   -3.85    104.24  1123    11253    Q\n",
      "0  dataset/Q/Q_286.jpg   -5.92    106.57          11253    Q\n",
      "0  dataset/Q/Q_285.jpg   -8.28    111.16                   Q\n",
      "0  dataset/A/A_277.jpg  -22.83    144.31          11257   AS\n",
      "0  dataset/E/E_266.jpg   29.58    127.63   594    11247    E\n",
      "0   dataset/D/D265.jpg   40.85    126.91   597             D\n",
      "0   dataset/D/D264.jpg   49.50    126.25   599    11242    D\n",
      "0   dataset/D/D263.jpg   52.49    124.81   800     1239    D\n",
      "0   dataset/D/D262.jpg   52.49    124.81   599     1237    D\n",
      "0  dataset/E/E_257.jpg   11.66    128.65   758             E\n",
      "0  dataset/E/E_256.jpg   11.22    128.46   777             E\n",
      "0  dataset/E/E_252.jpg   11.15    139.64   724        1   EW\n",
      "0  dataset/E/E_252.jpg   11.40    126.50   724        1   EW\n",
      "0  dataset/E/E_252.jpg   13.60    127.58   724        1   EW\n",
      "0  dataset/E/E_212.jpg   37.75    117.61  5913     1142    E\n",
      "0  dataset/E/E_212.jpg   39.88    102.94  5913     1142    E\n",
      "0   dataset/D/D211.jpg   64.51     95.27   595     1142    D\n",
      "0  dataset/A/A_191.jpg  -50.88     96.67   850    11048    A\n",
      "0  dataset/A/A_190.jpg   -7.13    104.81   857        5    A\n",
      "0  dataset/A/A_189.jpg  -15.49    104.81   885      125    A\n",
      "0  dataset/A/A_188.jpg  -19.29    105.95   989       25    A\n",
      "0  dataset/A/A_126.jpg  -79.29    112.97   223      984  ASW\n",
      "0  dataset/A/A_126.jpg -108.43    117.00   223      984  ASW\n",
      "0  dataset/A/A_126.jpg -119.58    127.63   223      984  ASW\n",
      "0   dataset/A/A_83.jpg  -47.70    150.07    55      815    A\n",
      "0   dataset/A/A_83.jpg  -57.03    132.31    55      815    A\n",
      "0   dataset/A/A_83.jpg  -69.73    118.33    55      815    A\n",
      "0   dataset/A/A_83.jpg  -74.40    115.25    55      815    A\n",
      "0   dataset/A/A_83.jpg  -99.21    112.45    55      815    A\n",
      "0   dataset/A/A_83.jpg -101.21    113.16    55      815    A\n"
     ]
    }
   ],
   "source": [
    "user32 = windll.user32\n",
    "user32.SetProcessDPIAware()\n",
    "getMapData()"
   ]
  },
  {
   "cell_type": "code",
   "execution_count": 165,
   "metadata": {},
   "outputs": [
    {
     "name": "stdout",
     "output_type": "stream",
     "text": [
      "Speed: 600\n",
      "Altitude: 129\n"
     ]
    },
    {
     "data": {
      "image/png": "[encoded data removed]",
      "text/plain": [
       "<Figure size 432x288 with 3 Axes>"
      ]
     },
     "metadata": {
      "needs_background": "light"
     },
     "output_type": "display_data"
    }
   ],
   "source": [
    "i = cv2.imread('map_full_res.jpg')\n",
    "i = cv2.cvtColor(i, cv2.COLOR_BGR2GRAY)\n",
    "i2 = i\n",
    "plt.subplot(1,3,1)\n",
    "plt.imshow(i,cmap='gray')\n",
    "i = i[SPEEDBOX_Y:SPEEDBOX_YH, SPEEDBOX_X:SPEEDBOX_XH]\n",
    "i = cv2.GaussianBlur(i,(3,3),cv2.BORDER_DEFAULT)\n",
    "i = cv2.filter2D(i,-1,sharpeningKernel)\n",
    "print(\"Speed: \"+processOCR(pytesseract.image_to_string(i,lang='eng')))\n",
    "plt.subplot(1,3,2)\n",
    "plt.imshow(i,cmap='gray')\n",
    "i = i2[ALTIBOX_Y:ALTIBOX_YH, ALTIBOX_X:ALTIBOX_XH]\n",
    "i = cv2.GaussianBlur(i,(3,3),cv2.BORDER_DEFAULT)\n",
    "i = cv2.filter2D(i,-1,sharpeningKernel)\n",
    "plt.subplot(1,3,3)\n",
    "plt.imshow(i,cmap='gray')\n",
    "print(\"Altitude: \"+processOCR(pytesseract.image_to_string(i,lang='eng')))\n",
    "plt.show()"
   ]
  },
  {
   "cell_type": "code",
   "execution_count": 168,
   "metadata": {},
   "outputs": [
    {
     "name": "stdout",
     "output_type": "stream",
     "text": [
      "1168\n"
     ]
    }
   ],
   "source": [
    "print(processOCR(\"Z1168\"))"
   ]
  },
  {
   "cell_type": "code",
   "execution_count": null,
   "metadata": {},
   "outputs": [],
   "source": []
  }
 ],
 "metadata": {
  "kernelspec": {
   "display_name": "conda (tf)",
   "language": "python",
   "name": "tf"
  },
  "language_info": {
   "codemirror_mode": {
    "name": "ipython",
    "version": 3
   },
   "file_extension": ".py",
   "mimetype": "text/x-python",
   "name": "python",
   "nbconvert_exporter": "python",
   "pygments_lexer": "ipython3",
   "version": "3.7.4"
  }
 },
 "nbformat": 4,
 "nbformat_minor": 2
}
