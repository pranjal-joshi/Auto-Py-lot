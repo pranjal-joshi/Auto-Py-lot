{
 "cells": [
  {
   "cell_type": "code",
   "execution_count": 1,
   "metadata": {},
   "outputs": [],
   "source": [
    "# Import required libraries\n",
    "import d3dshot\n",
    "import tensorflow as tf\n",
    "import cv2\n",
    "from PIL import Image, ImageGrab, ImageEnhance\n",
    "import numpy as np\n",
    "import win32gui as w\n",
    "import win32api, win32con\n",
    "from ctypes import windll\n",
    "from time import sleep\n",
    "import winsound\n",
    "import math\n",
    "import matplotlib.pyplot as plt\n",
    "import imutils\n",
    "import pandas as pd\n",
    "import joblib"
   ]
  },
  {
   "cell_type": "code",
   "execution_count": 34,
   "metadata": {},
   "outputs": [
    {
     "data": {
      "text/plain": [
       "1"
      ]
     },
     "execution_count": 34,
     "metadata": {},
     "output_type": "execute_result"
    }
   ],
   "source": [
    "# Declare global variables\n",
    "I_WIDTH, I_HEIGHT = 224, 224\n",
    "ORG_Y, ORG_X = int(I_HEIGHT*(2/3)), int(I_WIDTH/2)\n",
    "OFFSET_ANGLE = 90\n",
    "TRAIN_DF_COL_NAMES = ['imgPath','angle','distance','key']\n",
    "CSV_DATASET_PATH = 'dataset//train.csv'\n",
    "\n",
    "keyList = ['\\b', 'A', 'B', 'C', 'D', 'E', 'F', 'G', 'H', 'I', 'J', 'K', 'L', 'M', 'N', 'O', 'P', 'Q', 'R', 'S', 'T', 'U', 'V', 'W', 'X', 'Y', 'Z', ' ', '1', '2', '3', '4', '5', '6', '7', '8', '9', ',', '.']\n",
    "redMin = np.array([0,0,0])\n",
    "redMax = np.array([30,255,255])\n",
    "\n",
    "user32 = windll.user32\n",
    "user32.SetProcessDPIAware()"
   ]
  },
  {
   "cell_type": "code",
   "execution_count": 3,
   "metadata": {},
   "outputs": [],
   "source": [
    "# Return keypresses asynchronously\n",
    "def checkKeys():\n",
    "\tkeys = []\n",
    "\tfor key in keyList:\n",
    "\t\tif win32api.GetAsyncKeyState(ord(key)):\n",
    "\t\t\tkeys.append(key)\n",
    "\treturn keys"
   ]
  },
  {
   "cell_type": "code",
   "execution_count": 21,
   "metadata": {},
   "outputs": [],
   "source": [
    "# Grab game screenshot\n",
    "def getScreenshot(convertToNumpy=True):\n",
    "    while True:\n",
    "        try:\n",
    "            win32api.keybd_event(win32con.VK_SNAPSHOT,1)\n",
    "            i = ImageGrab.grabclipboard()\n",
    "            if convertToNumpy:\n",
    "                i = np.array(i,dtype='uint8')\n",
    "                i = cv2.cvtColor(i, cv2.COLOR_BGR2RGB)\n",
    "            return i\n",
    "        except TypeError:\n",
    "            return np.zeros([1920,1080],dtype='uint8')"
   ]
  },
  {
   "cell_type": "code",
   "execution_count": 20,
   "metadata": {},
   "outputs": [],
   "source": [
    "# Main Call\n",
    "if __name__ == \"__main__\":\n",
    "    sleep(2)\n",
    "    getScreenshot()"
   ]
  },
  {
   "cell_type": "code",
   "execution_count": 55,
   "metadata": {},
   "outputs": [
    {
     "name": "stdout",
     "output_type": "stream",
     "text": [
      "([28.55], [154.83])\n"
     ]
    },
    {
     "data": {
      "image/png": "[encoded data removed]",
      "text/plain": [
       "<Figure size 432x288 with 3 Axes>"
      ]
     },
     "metadata": {
      "needs_background": "light"
     },
     "output_type": "display_data"
    }
   ],
   "source": [
    "i = cv2.imread('dataset/E/E_1010.jpg')\n",
    "i = cv2.cvtColor(i, cv2.COLOR_BGR2RGB)\n",
    "rImg = getRedColor(i)\n",
    "bImg = rgbToBinary(rImg)\n",
    "cnts = getContours(bImg)\n",
    "cx, cy = getContourCenter(cnts)\n",
    "print(getTargetAngleAndDistance(cx,cy))\n",
    "plt.subplot(1,3,1)\n",
    "plt.imshow(i)\n",
    "plt.subplot(1,3,2)\n",
    "plt.imshow(rImg)\n",
    "plt.subplot(1,3,3)\n",
    "plt.imshow(bImg)\n",
    "plt.show()"
   ]
  },
  {
   "cell_type": "code",
   "execution_count": 5,
   "metadata": {},
   "outputs": [],
   "source": [
    "# Return angle in degrees between plane and target\n",
    "def getTargetAngleAndDistance(cx, cy):\n",
    "    angles = []\n",
    "    distances = []\n",
    "    for i in range(0,len(cx)):\n",
    "        angle = math.atan2(ORG_Y-cy[i], ORG_X-cx[i])\n",
    "        angle = math.degrees(angle) - OFFSET_ANGLE\n",
    "        angles.append(round(angle,2))\n",
    "        distances.append(round(math.sqrt((ORG_Y-cy[i])**2 + (ORG_X-cx[i])**2),2))\n",
    "    return angles, distances"
   ]
  },
  {
   "cell_type": "code",
   "execution_count": 6,
   "metadata": {},
   "outputs": [],
   "source": [
    "# Converts RGB image to binary image for contour detection\n",
    "def rgbToBinary(img):\n",
    "    gray = cv2.cvtColor(img, cv2.COLOR_RGB2GRAY)\n",
    "    blurred = cv2.GaussianBlur(gray, (3, 3), 0)\n",
    "    thresh = cv2.threshold(blurred, 60, 255, cv2.THRESH_BINARY)[1]\n",
    "    thresh = cv2.dilate(thresh, np.ones((2,2), np.uint8), iterations=1)\n",
    "    return thresh"
   ]
  },
  {
   "cell_type": "code",
   "execution_count": 7,
   "metadata": {},
   "outputs": [],
   "source": [
    "# Return contours from binary image\n",
    "def getContours(bImg):\n",
    "    cnts = cv2.findContours(bImg.copy(), cv2.RETR_EXTERNAL, cv2.CHAIN_APPROX_SIMPLE)\n",
    "    cnts = imutils.grab_contours(cnts)\n",
    "    return cnts"
   ]
  },
  {
   "cell_type": "code",
   "execution_count": 8,
   "metadata": {},
   "outputs": [],
   "source": [
    "# Returns Center pixel of each contour for arctan2 calculations\n",
    "def getContourCenter(cnts):\n",
    "    cX = []\n",
    "    cY = []\n",
    "    for c in cnts:\n",
    "        M = cv2.moments(c)\n",
    "        cX.append(int(M[\"m10\"] / M[\"m00\"]))\n",
    "        cY.append(int(M[\"m01\"] / M[\"m00\"]))\n",
    "    return cX, cY"
   ]
  },
  {
   "cell_type": "code",
   "execution_count": 115,
   "metadata": {},
   "outputs": [],
   "source": [
    "# Convert RGB image to HSV & return red colour by masking everything else.\n",
    "def getRedColor(rgbImg, BGRinput=False):\n",
    "    hsvImg = None\n",
    "    if BGRinput:\n",
    "        hsvImg = cv2.cvtColor(rgbImg, cv2.COLOR_BGR2HSV)\n",
    "    else:\n",
    "        hsvImg = cv2.cvtColor(rgbImg, cv2.COLOR_RGB2HSV)\n",
    "    mask = cv2.inRange(hsvImg, redMin, redMax)\n",
    "    masked = cv2.bitwise_and(rgbImg, rgbImg, mask=mask)\n",
    "    return masked"
   ]
  },
  {
   "cell_type": "code",
   "execution_count": 116,
   "metadata": {},
   "outputs": [],
   "source": [
    "# Make beeps for status alerts\n",
    "def makeBeep(pattern):\n",
    "    if pattern == 'on':\n",
    "        winsound.Beep(2500,500)\n",
    "        winsound.Beep(3500,500)\n",
    "        winsound.Beep(4500,500)\n",
    "    elif pattern == 'off':\n",
    "        winsound.Beep(4500,500)\n",
    "        winsound.Beep(3500,500)\n",
    "        winsound.Beep(2500,500)  "
   ]
  },
  {
   "cell_type": "code",
   "execution_count": 117,
   "metadata": {},
   "outputs": [],
   "source": [
    "# Returns an empty pandas dataframe for dataset storage\n",
    "def createDataFrame():\n",
    "    return pd.DataFrame(columns=TRAIN_DF_COL_NAMES)"
   ]
  },
  {
   "cell_type": "code",
   "execution_count": 118,
   "metadata": {},
   "outputs": [],
   "source": [
    "# Get map image from game for dataset generation when the user takes control actions\n",
    "def getMapData():\n",
    "    cnt = 0\n",
    "    controlFlag = False\n",
    "    df = createDataFrame()\n",
    "    while True:\n",
    "        try:\n",
    "            k = checkKeys()\n",
    "            if 'k' in k:\n",
    "                winsound.Beep(1500,700)\n",
    "                break\n",
    "            if 'Q' in k and 'E' in k:\n",
    "                controlFlag = not controlFlag\n",
    "                if controlFlag:\n",
    "                    makeBeep('on')\n",
    "                else:\n",
    "                    makeBeep('off')\n",
    "                    df.to_csv(CSV_DATASET_PATH)\n",
    "                    break\n",
    "            if len(k) > 0 and controlFlag:\n",
    "                SAVE_PATH = None\n",
    "                PROCESS_FLAG = False\n",
    "                kTemp = \"\".join(k.copy())\n",
    "                if 'Q' in k:\n",
    "                    SAVE_PATH = 'dataset/Q/Q_'+str(cnt)+'.jpg'\n",
    "                    PROCESS_FLAG = True\n",
    "                if 'E' in k:\n",
    "                    SAVE_PATH = 'dataset/E/E_'+str(cnt)+'.jpg'\n",
    "                    PROCESS_FLAG = True\n",
    "                if 'A' in k:\n",
    "                    SAVE_PATH = 'dataset/A/A_'+str(cnt)+'.jpg'\n",
    "                    PROCESS_FLAG = True\n",
    "                if 'D' in k:\n",
    "                    SAVE_PATH = 'dataset/D/D'+str(cnt)+'.jpg'\n",
    "                    PROCESS_FLAG = True\n",
    "                if PROCESS_FLAG:\n",
    "                    i = getScreenshot(convertToNumpy=True)\n",
    "                    i = i[723:1026,98:401]\n",
    "                    i = cv2.resize(i, (I_WIDTH, I_HEIGHT))\n",
    "                    i = Image.fromarray(i)\n",
    "                    ce, be, cole = ImageEnhance.Contrast(i), ImageEnhance.Brightness(i), ImageEnhance.Color(i)\n",
    "                    i = be.enhance(0.2)\n",
    "                    i = ce.enhance(0.5)\n",
    "                    i = cole.enhance(3.0)\n",
    "                    i = np.asarray(i)\n",
    "                    i = getRedColor(i,BGRinput=True)\n",
    "                    cv2.imwrite(SAVE_PATH,i)\n",
    "                    i = rgbToBinary(i)\n",
    "                    cnts = getContours(i)\n",
    "                    cx, cy = getContourCenter(cnts)\n",
    "                    angles, dist = getTargetAngleAndDistance(cx, cy)\n",
    "                    for i in range(0,len(angles)):\n",
    "                        df = pd.concat([pd.DataFrame([[SAVE_PATH, angles[i], dist[i], kTemp]],columns=TRAIN_DF_COL_NAMES),df])\n",
    "                    cnt +=1\n",
    "                sleep(0.01)\n",
    "        except ZeroDivisionError:\n",
    "            pass\n",
    "        except KeyboardInterrupt:\n",
    "            df.to_csv(CSV_DATASET_PATH)\n",
    "            print(\"KeyboardInterrupt Exception Ocuured\")\n",
    "            print(df)\n",
    "            break\n",
    "        except Exception as e:\n",
    "            df.to_csv(CSV_DATASET_PATH)\n",
    "            print(\"Exception Ocuured\")\n",
    "            print(df)\n"
   ]
  },
  {
   "cell_type": "code",
   "execution_count": 119,
   "metadata": {},
   "outputs": [],
   "source": [
    "getMapData()"
   ]
  },
  {
   "cell_type": "code",
   "execution_count": null,
   "metadata": {},
   "outputs": [],
   "source": []
  }
 ],
 "metadata": {
  "kernelspec": {
   "display_name": "conda (tf)",
   "language": "python",
   "name": "tf"
  },
  "language_info": {
   "codemirror_mode": {
    "name": "ipython",
    "version": 3
   },
   "file_extension": ".py",
   "mimetype": "text/x-python",
   "name": "python",
   "nbconvert_exporter": "python",
   "pygments_lexer": "ipython3",
   "version": "3.7.4"
  }
 },
 "nbformat": 4,
 "nbformat_minor": 2
}
